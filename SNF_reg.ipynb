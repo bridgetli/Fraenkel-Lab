{
 "cells": [
  {
   "cell_type": "markdown",
   "metadata": {},
   "source": [
    "# SNF with regression to remove s100b batch effect\n",
    "s100b is a biological covariate that causes noise in clustering.\\\n",
    "removeBatchEffect from limma was applied to all three modalities in R. This fits a linear model to each feature in the dataset using the covariates we want to remove. SNF is run of residuals from that linear model instead of the original data."
   ]
  },
  {
   "cell_type": "code",
   "execution_count": 1,
   "metadata": {},
   "outputs": [],
   "source": [
    "import os\n",
    "import numpy as np\n",
    "import pandas as pd\n",
    "import patsy\n",
    "import scipy.stats as stats\n",
    "\n",
    "import snf\n",
    "from snf import metrics\n",
    "from sklearn.cluster import spectral_clustering\n",
    "from sklearn.metrics import v_measure_score\n",
    "from sklearn.metrics.cluster import normalized_mutual_info_score\n",
    "\n",
    "import matplotlib.pyplot as plt\n",
    "import seaborn as sns"
   ]
  },
  {
   "cell_type": "markdown",
   "metadata": {},
   "source": [
    "### Load and format data"
   ]
  },
  {
   "cell_type": "code",
   "execution_count": 2,
   "metadata": {},
   "outputs": [],
   "source": [
    "def load_data():\n",
    "    prot = pd.read_csv('/nfs/latdata/velina/for_bridget/s100b_corrected_omics/proteomics_182_s100b_corrected.csv',\n",
    "                        index_col=0)\n",
    "    tran = pd.read_csv('/nfs/latdata/velina/for_bridget/s100b_corrected_omics/rna_182_s100b_corrected.csv',\n",
    "                        index_col=0)\n",
    "    epig = pd.read_csv('/nfs/latdata/velina/for_bridget/s100b_corrected_omics/atac_182_s100b_corrected.csv',\n",
    "                        index_col=0)\n",
    "    # Metadata\n",
    "    meta = pd.read_csv('/nfs/answer/fraenkel_internal/current_omics/proteomics/full_prot_metadata203_03082023.csv',\n",
    "                        error_bad_lines=False)\n",
    "    meta = meta.set_index('Unnamed: 0')\n",
    "    \n",
    "    return [prot, tran, epig, meta]"
   ]
  },
  {
   "cell_type": "code",
   "execution_count": 3,
   "metadata": {},
   "outputs": [],
   "source": [
    "# Switch rows and columns to match snf format\n",
    "def transpose(data):\n",
    "    data_return = []\n",
    "    for d in data[:-1]:\n",
    "        data_return.append(d.T)\n",
    "    data_return.append(data[-1])\n",
    "    \n",
    "    return data_return"
   ]
  },
  {
   "cell_type": "code",
   "execution_count": 4,
   "metadata": {},
   "outputs": [],
   "source": [
    "# Keep only samples present in all datasets\n",
    "def filter_and_sort(data):\n",
    "    \n",
    "    meta = data[-1]\n",
    "    epig = data[-2]\n",
    "    \n",
    "    meta = meta[meta.index.isin(epig.index)]\n",
    "\n",
    "    data_return = []\n",
    "    \n",
    "    for d in data:\n",
    "        d = d[d.index.isin(meta.index)]\n",
    "        data_return.append(d.sort_index())\n",
    "    \n",
    "    return data_return"
   ]
  },
  {
   "cell_type": "code",
   "execution_count": 5,
   "metadata": {},
   "outputs": [],
   "source": [
    "data = load_data()\n",
    "data = transpose(data)\n",
    "prot, tran, epig, meta = filter_and_sort(data)"
   ]
  },
  {
   "cell_type": "markdown",
   "metadata": {},
   "source": [
    "### Label"
   ]
  },
  {
   "cell_type": "code",
   "execution_count": 6,
   "metadata": {},
   "outputs": [],
   "source": [
    "# Case\n",
    "actual_labels = meta['Case'].map({'CASE': 1, 'CTRL': 0}).array"
   ]
  },
  {
   "cell_type": "markdown",
   "metadata": {},
   "source": [
    "### Remove batch effect\n",
    "Don't run. Could not get this to work in Python."
   ]
  },
  {
   "cell_type": "code",
   "execution_count": 7,
   "metadata": {},
   "outputs": [],
   "source": [
    "'''\n",
    "https://github.com/chichaumiau/removeBatcheffect\n",
    "\n",
    "pheno: the metadata as a table\n",
    "exprs: the expression profile, the rows are the genes and the columns are the cells.\n",
    "covariate_formula: is an expression of the variance you want to keep. (columns in the metadata table).\n",
    "design_formula: is an expression of the variance you want to remove. i.e. the batch.\n",
    "'''\n",
    "def limma(pheno, exprs, covariate_formula, design_formula='1', rcond=1e-8):\n",
    "    design_matrix = patsy.dmatrix(design_formula, pheno)\n",
    "    rowsum = design_matrix.sum(axis=1) -1\n",
    "    design_matrix=(design_matrix.T+rowsum).T\n",
    "\n",
    "    design_batch = design_matrix\n",
    "    coefficients, res, rank, s = np.linalg.lstsq(design_batch, exprs, rcond=rcond)\n",
    "    beta = coefficients[-design_matrix.shape[1]:]\n",
    "    return exprs - design_matrix.dot(beta)\n",
    "\n",
    "def removeBatchEffect(cov, meta, expr_data):\n",
    "    meta[cov] = meta[cov].fillna(0)\n",
    "\n",
    "    regressed_data = []\n",
    "    for df in expr_data:\n",
    "        regressed_data.append(limma(meta, df, meta.drop(cov, axis=1), cov))\n",
    "    return regressed_data"
   ]
  },
  {
   "cell_type": "code",
   "execution_count": 8,
   "metadata": {},
   "outputs": [
    {
     "data": {
      "text/plain": [
       "\"\\nexpr_data = [prot_raw, prot_norm, tran_raw, tran_norm, epig_raw, epig_norm]\\nregressed_data = removeBatchEffect('s100b', meta, expr_data)\\nprot_raw_reg, prot_norm_reg, tran_raw_reg, tran_norm_reg, epig_raw_reg, epig_norm_reg = regressed_data\\nprot_norm_reg\\n\""
      ]
     },
     "execution_count": 8,
     "metadata": {},
     "output_type": "execute_result"
    }
   ],
   "source": [
    "# DON'T RUN\n",
    "'''\n",
    "expr_data = [prot_raw, prot_norm, tran_raw, tran_norm, epig_raw, epig_norm]\n",
    "regressed_data = removeBatchEffect('s100b', meta, expr_data)\n",
    "prot_raw_reg, prot_norm_reg, tran_raw_reg, tran_norm_reg, epig_raw_reg, epig_norm_reg = regressed_data\n",
    "prot_norm_reg\n",
    "'''"
   ]
  },
  {
   "cell_type": "markdown",
   "metadata": {},
   "source": [
    "### Apply SNF"
   ]
  },
  {
   "cell_type": "code",
   "execution_count": 9,
   "metadata": {},
   "outputs": [
    {
     "data": {
      "text/plain": [
       "2"
      ]
     },
     "execution_count": 9,
     "metadata": {},
     "output_type": "execute_result"
    }
   ],
   "source": [
    "def apply_snf(prot, tran, epig):\n",
    "    '''\n",
    "    Apply SNF to data.\n",
    "    Args:\n",
    "        prot: DataFrame of normalized proteomics data\n",
    "        tran: DataFrame of normalized transcriptomics data\n",
    "        epig: DataFrame of normalized epigenomics data\n",
    "    Returns:\n",
    "        best: best number of clusters by spectral clustering\n",
    "        affinity_networks: array with coefficients of similarity\n",
    "            between each pair of patients for a single modality\n",
    "        fused_network: array with coefficients of fused similarity\n",
    "            between each pair of patients\n",
    "        fused_labels: array of label of 0/1 for each patient,\n",
    "            determined by SNF and spectral clustering\n",
    "    '''\n",
    "    data = [prot, tran, epig]\n",
    "    \n",
    "    # K: num of nearest neighbors to consider when constructing affinity matrix\n",
    "        # good value for K is sqrt(N)\n",
    "    # mu: scaling factor that weights affinity matrix\n",
    "    affinity_networks = snf.make_affinity(data, metric='euclidean', K=14, mu=0.5)\n",
    "    \n",
    "    # Run SNF algorithm\n",
    "    fused_network = snf.snf(affinity_networks, K=14)\n",
    "    \n",
    "    # Estimate the number of clusters in the data via the “eigengap” method\n",
    "    best, second = snf.get_n_clusters(fused_network)\n",
    "    \n",
    "    # Get labels from clusters\n",
    "    fused_labels = spectral_clustering(fused_network, n_clusters=best)\n",
    "    \n",
    "    return best, affinity_networks, fused_network, fused_labels\n",
    "\n",
    "# With proteomics data normalized by code\n",
    "#best, fused_network, fused_labels = apply_snf(prot_z, tran_z, epig_z)\n",
    "# With already normalized proteomics data\n",
    "best, affinity_networks, fused_network, fused_labels = apply_snf(prot, tran, epig)\n",
    "best"
   ]
  },
  {
   "cell_type": "code",
   "execution_count": 10,
   "metadata": {},
   "outputs": [
    {
     "data": {
      "text/plain": [
       "array([1, 1, 0, 0, 0, 0, 1, 1, 0, 0, 1, 1, 0, 0, 0, 0, 1, 1, 0, 0, 0, 0,\n",
       "       0, 1, 0, 1, 1, 0, 0, 1, 1, 1, 0, 1, 0, 0, 1, 0, 0, 1, 0, 0, 1, 1,\n",
       "       1, 1, 0, 0, 0, 0, 0, 1, 0, 1, 0, 0, 1, 0, 0, 1, 0, 1, 1, 1, 1, 0,\n",
       "       1, 0, 1, 0, 0, 0, 0, 1, 0, 1, 0, 0, 1, 0, 1, 0, 1, 0, 1, 1, 0, 1,\n",
       "       0, 0, 1, 0, 1, 0, 0, 0, 0, 0, 0, 0, 0, 0, 0, 1, 0, 1, 1, 1, 1, 0,\n",
       "       0, 0, 1, 1, 1, 1, 1, 0, 0, 1, 1, 0, 0, 1, 1, 1, 0, 0, 0, 0, 0, 1,\n",
       "       0, 0, 0, 1, 1, 0, 1, 0, 1, 1, 0, 0, 0, 1, 0, 0, 0, 0, 1, 0, 0, 1,\n",
       "       0, 0, 0, 1, 1, 0, 0, 0, 0, 0, 0, 0, 1, 1, 0, 1, 0, 1, 0, 1, 1, 0,\n",
       "       0, 0, 0, 1, 0, 0], dtype=int32)"
      ]
     },
     "execution_count": 10,
     "metadata": {},
     "output_type": "execute_result"
    }
   ],
   "source": [
    "fused_labels"
   ]
  },
  {
   "cell_type": "code",
   "execution_count": 11,
   "metadata": {},
   "outputs": [
    {
     "data": {
      "text/plain": [
       "{'v_measure_score': 0.0013474267406975572,\n",
       " 'nmi': array([[1.00000000e+00, 1.34742674e-03, 6.58543363e-05, 6.54405632e-05,\n",
       "         3.22690598e-04],\n",
       "        [1.34742674e-03, 1.00000000e+00, 1.18091680e-01, 4.44573059e-01,\n",
       "         2.04302618e-02],\n",
       "        [6.58543363e-05, 1.18091680e-01, 1.00000000e+00, 2.02395310e-02,\n",
       "         1.18894996e-02],\n",
       "        [6.54405632e-05, 4.44573059e-01, 2.02395310e-02, 1.00000000e+00,\n",
       "         4.91343460e-03],\n",
       "        [3.22690598e-04, 2.04302618e-02, 1.18894996e-02, 4.91343460e-03,\n",
       "         1.00000000e+00]]),\n",
       " 'silhouette score': 0.1812458527087758}"
      ]
     },
     "execution_count": 11,
     "metadata": {},
     "output_type": "execute_result"
    }
   ],
   "source": [
    "def score(best, affinity_networks, fused_network, fused_labels, actual_labels):\n",
    "    '''\n",
    "    Scores to evaluate performance of SNF\n",
    "    Returns:\n",
    "        scores_dict: dictionary of key=score name, value=score value\n",
    "            for v_measure_score, nmi, and silhouette score\n",
    "    '''\n",
    "    # v_measure_score ranges from 0 to 1, where 1 indicates perfect overlap between the derived and true labels and 0 indicates no overlap\n",
    "    v_measure = v_measure_score(fused_labels, actual_labels)\n",
    "    \n",
    "    # Generate cluster labels from the individual affinity matrices\n",
    "    labels = [actual_labels, fused_labels]\n",
    "    for arr in affinity_networks:\n",
    "        labels += [spectral_clustering(arr, n_clusters=best)]\n",
    "        \n",
    "    '''\n",
    "    Normalized mutual information score (NMI) between the labels\n",
    "    generated by SNF and the ones we just obtained.\n",
    "    0 indicates no overlap and 1 indicates a perfect correspondence\n",
    "    between the two sets of labels.\n",
    "    '''\n",
    "    nmi = normalized_mutual_info_score(actual_labels, fused_labels)\n",
    "    '''\n",
    "    Silhouette score\n",
    "    Range from -1 to 1, where -1 indicates a poor clustering solution\n",
    "    and 1 indicates a fantastic solution.\n",
    "    '''\n",
    "    np.fill_diagonal(fused_network, 0)\n",
    "    sil = metrics.silhouette_score(fused_network, fused_labels)\n",
    "    \n",
    "    return v_measure, nmi, sil\n",
    "\n",
    "scores = score(best, affinity_networks, fused_network, fused_labels, actual_labels)\n",
    "scores_dict = {'v_measure_score': scores[0], 'nmi': scores[1], 'silhouette score': scores[2]}\n",
    "scores_dict"
   ]
  },
  {
   "cell_type": "markdown",
   "metadata": {},
   "source": [
    "### Network visualization\n",
    "Visualize connections within/between clusters generated by SNF."
   ]
  },
  {
   "cell_type": "code",
   "execution_count": 12,
   "metadata": {},
   "outputs": [],
   "source": [
    "import networkx as nx \n",
    "from pyvis import network as net\n",
    "\n",
    "import matplotlib.cm as cm\n",
    "import matplotlib as mpl"
   ]
  },
  {
   "cell_type": "code",
   "execution_count": 13,
   "metadata": {},
   "outputs": [],
   "source": [
    "def add_node_colors(network, col_attribute, cmap_name=\"Accent\"):\n",
    "    \"\"\"\n",
    "    Function to add node colors based on existing node attribute.\n",
    "    \n",
    "    network: networkx object\n",
    "    col_attribute: Name of attribute to use for determining node colors\n",
    "    cmap_name: Name of matplotlib colormap to use (default: 'Accent')\n",
    "    \"\"\"\n",
    "    source_att = nx.get_node_attributes(network, col_attribute)\n",
    "    \n",
    "    # Get colors\n",
    "    cmap = cm.get_cmap(cmap_name, len(set(source_att.values())))    \n",
    "    source_dict = dict(zip(list(set(source_att.values())),\n",
    "                           np.arange(len(set(source_att.values())))))\n",
    "    node_colors = {n:mpl.colors.rgb2hex(cmap(source_dict[v]), keep_alpha=True) for (n, v) in source_att.items()}\n",
    "    # Set colors\n",
    "    nx.set_node_attributes(network, node_colors, 'color')"
   ]
  },
  {
   "cell_type": "code",
   "execution_count": 14,
   "metadata": {},
   "outputs": [
    {
     "data": {
      "text/plain": [
       "array([[0.        , 0.        , 0.        , ..., 0.00704014, 0.        ,\n",
       "        0.        ],\n",
       "       [0.        , 0.        , 0.        , ..., 0.        , 0.        ,\n",
       "        0.        ],\n",
       "       [0.        , 0.        , 0.        , ..., 0.        , 0.0060678 ,\n",
       "        0.        ],\n",
       "       ...,\n",
       "       [0.00704014, 0.        , 0.        , ..., 0.        , 0.        ,\n",
       "        0.        ],\n",
       "       [0.        , 0.        , 0.0060678 , ..., 0.        , 0.        ,\n",
       "        0.        ],\n",
       "       [0.        , 0.        , 0.        , ..., 0.        , 0.        ,\n",
       "        0.        ]])"
      ]
     },
     "execution_count": 14,
     "metadata": {},
     "output_type": "execute_result"
    }
   ],
   "source": [
    "n = len(fused_network)\n",
    "fused_network_vis = fused_network.copy()\n",
    "\n",
    "# Set all entries below 75% quartile to 0 to avoid too many network connections\n",
    "cutoff = np.percentile(fused_network_vis, 75)\n",
    "for row in fused_network_vis:\n",
    "    row[row < cutoff] = 0\n",
    "fused_network_vis"
   ]
  },
  {
   "cell_type": "code",
   "execution_count": 15,
   "metadata": {},
   "outputs": [
    {
     "data": {
      "text/plain": [
       "{'Case': 'CASE', 'Sex.x': 'Female', 'fused_labels': 1, 'color': '#666666ff'}"
      ]
     },
     "execution_count": 15,
     "metadata": {},
     "output_type": "execute_result"
    }
   ],
   "source": [
    "# Create networkx object\n",
    "nt = nx.from_numpy_matrix(fused_network_vis)\n",
    "nt = nx.relabel_nodes(nt, dict(zip(np.arange(n), prot.index.values)))\n",
    "\n",
    "# Set some attributes from metadata\n",
    "meta_net = meta.copy()\n",
    "meta_net['fused_labels'] = fused_labels\n",
    "nx.set_node_attributes(nt, meta_net.loc[:, ['Case', 'Sex.x', 'fused_labels', ]].to_dict('index'))\n",
    "\n",
    "# Set node colors \n",
    "add_node_colors(nt, col_attribute='fused_labels')\n",
    "nt.nodes['NEUAB000NKC']"
   ]
  },
  {
   "cell_type": "code",
   "execution_count": 16,
   "metadata": {},
   "outputs": [
    {
     "name": "stdout",
     "output_type": "stream",
     "text": [
      "Warning: When  cdn_resources is 'local' jupyter notebook has issues displaying graphics on chrome/safari. Use cdn_resources='in_line' or cdn_resources='remote' if you have issues viewing graphics in a notebook.\n",
      "nx.html\n"
     ]
    },
    {
     "data": {
      "text/html": [
       "\n",
       "        <iframe\n",
       "            width=\"750px\"\n",
       "            height=\"750px\"\n",
       "            src=\"nx.html\"\n",
       "            frameborder=\"0\"\n",
       "            allowfullscreen\n",
       "        ></iframe>\n",
       "        "
      ],
      "text/plain": [
       "<IPython.lib.display.IFrame at 0x7f3d7252a710>"
      ]
     },
     "execution_count": 16,
     "metadata": {},
     "output_type": "execute_result"
    }
   ],
   "source": [
    "# Subgraph for ease of visualization\n",
    "sub_nt = nt.subgraph(list(nt.nodes)[:100])\n",
    "\n",
    "ntw = net.Network('750px', '750px', notebook=True)\n",
    "ntw.toggle_physics(False)\n",
    "ntw.from_nx(sub_nt)\n",
    "\n",
    "ntw.show('nx.html')"
   ]
  },
  {
   "cell_type": "code",
   "execution_count": null,
   "metadata": {},
   "outputs": [],
   "source": []
  }
 ],
 "metadata": {
  "kernelspec": {
   "display_name": "Python (fresh-env)",
   "language": "python",
   "name": "fresh-env"
  },
  "language_info": {
   "codemirror_mode": {
    "name": "ipython",
    "version": 3
   },
   "file_extension": ".py",
   "mimetype": "text/x-python",
   "name": "python",
   "nbconvert_exporter": "python",
   "pygments_lexer": "ipython3",
   "version": "3.6.13"
  }
 },
 "nbformat": 4,
 "nbformat_minor": 2
}
